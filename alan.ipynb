{
 "cells": [
  {
   "cell_type": "code",
   "execution_count": 1,
   "metadata": {},
   "outputs": [
    {
     "name": "stdout",
     "output_type": "stream",
     "text": [
      "Las notas son: [5.0, 6.0, 7.0, 8.0, 9.0]\n",
      "La nota máxima es: 9.0\n",
      "La nota mínima es: 5.0\n",
      "El promedio de las notas es: 7.0\n"
     ]
    }
   ],
   "source": [
    "# Calificaciones de un alumno\n",
    "calificaciones =[]\n",
    "for i in range (5):\n",
    "  c = float(input(f'Registre las notas del alumno (entre 0 y 10): '))\n",
    "  while c < 0 or c >10:\n",
    "    print(f'La nota no es válida')\n",
    "    c = float(input(f'Ingrese una nota (entre 0 y 10): '))\n",
    "  calificaciones.append(c)    \n",
    "print(f'Las notas son: {calificaciones}')\n",
    "print(f'La nota máxima es: {max(calificaciones)}')\n",
    "print(f'La nota mínima es: {min(calificaciones)}')\n",
    "print(f'El promedio de las notas es: {sum(calificaciones)/len(calificaciones)}')"
   ]
  }
 ],
 "metadata": {
  "kernelspec": {
   "display_name": "Python 3",
   "language": "python",
   "name": "python3"
  },
  "language_info": {
   "codemirror_mode": {
    "name": "ipython",
    "version": 3
   },
   "file_extension": ".py",
   "mimetype": "text/x-python",
   "name": "python",
   "nbconvert_exporter": "python",
   "pygments_lexer": "ipython3",
   "version": "3.12.1"
  }
 },
 "nbformat": 4,
 "nbformat_minor": 2
}